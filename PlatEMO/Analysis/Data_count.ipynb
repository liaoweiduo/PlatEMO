{
 "cells": [
  {
   "cell_type": "code",
   "execution_count": 15,
   "metadata": {},
   "outputs": [],
   "source": [
    "import os\n",
    "import bisect\n",
    "\n",
    "root = '../Data_processed'\n",
    "data = {}\n",
    "algorithms = ['FVEMOA', 'FVEMOA_DR', 'HypE', 'SMSEMOA']\n",
    "problems = ['DTLZ1', 'DTLZ2', 'DTLZ3', 'DTLZ4', 'DTLZ5', 'DTLZ6', 'DTLZ7', 'DTLZ8', 'DTLZ9', 'C1_DTLZ1', 'C2_DTLZ2', \\\n",
    "            'C3_DTLZ4', 'CDTLZ2', 'IDTLZ1', 'IDTLZ2', 'SDTLZ1', 'WFG1', 'WFG2', 'WFG3', 'WFG4', 'WFG5', 'WFG6', 'WFG7', \\\n",
    "            'WFG8', 'WFG9', 'MaF1', 'MaF2', 'MaF3', 'MaF4', 'MaF5', 'MaF6', 'MaF7', 'MaF8', 'MaF9', 'MaF10', 'MaF11', \\\n",
    "            'MaF12', 'MaF13', 'MaF14', 'MaF15']\n",
    "Ns = ['100']\n",
    "Ms = ['3', '5', '8', '10']\n",
    "# runs = 25\n",
    "\n",
    "for algorithm in os.listdir(root):\n",
    "    if algorithm[0] == '.':\n",
    "        continue\n",
    "        \n",
    "    if algorithm not in data:\n",
    "        data[algorithm] = {}\n",
    "    for file in os.listdir(root + '/' + algorithm):\n",
    "        file = file[len(algorithm) + 1 : ]\n",
    "        # problem\n",
    "        problem = file[ : file.find('_N')]\n",
    "        if problem not in data[algorithm]:\n",
    "            data[algorithm][problem] = {}\n",
    "        file = file[len(problem) + 1 : ]\n",
    "        # N\n",
    "        N = file[1 : file.find('_M')]\n",
    "        if N not in data[algorithm][problem]:\n",
    "            data[algorithm][problem][N] = {}\n",
    "        file = file[len(N) + 2 : ]\n",
    "        # M\n",
    "        M = file[1 : file.find('_D')]\n",
    "        if M not in data[algorithm][problem][N]:\n",
    "            data[algorithm][problem][N][M] = []\n",
    "        file = file[len(M) + 2 : ]\n",
    "        # run \n",
    "        run = file[file.find('_') + 1 : file.find('.mat')]\n",
    "        bisect.insort(data[algorithm][problem][N][M], int(run))\n",
    "\n",
    "\n",
    "# generate task dictionary, then compare\n",
    "# total = 0\n",
    "# count = 0\n",
    "with open('data_count.out', 'w+') as f:\n",
    "    for algorithm in algorithms:\n",
    "        for problem in problems:\n",
    "            for N in Ns:\n",
    "                for M in Ms:\n",
    "                    # total += runs\n",
    "                    if algorithm in data and problem in data[algorithm] and \\\n",
    "                    N in data[algorithm][problem] and M in data[algorithm][problem][N]:\n",
    "                        print(algorithm, problem, 'M'+ M, '\\t:', data[algorithm][problem][N][M], file=f)\n",
    "                        # count += len(data[algorithm][problem][N][M])\n",
    "                    else:\n",
    "                        print(algorithm, problem, 'M'+ M, '\\t: []', file=f)\n",
    "    # print (count, '/', total)"
   ]
  },
  {
   "cell_type": "code",
   "execution_count": 4,
   "metadata": {},
   "outputs": [
    {
     "data": {
      "text/plain": [
       "['Data_count-checkpoint.ipynb']"
      ]
     },
     "execution_count": 4,
     "metadata": {},
     "output_type": "execute_result"
    }
   ],
   "source": [
    "os.listdir(root + '/' + algorithm)\n"
   ]
  },
  {
   "cell_type": "code",
   "execution_count": 9,
   "metadata": {},
   "outputs": [
    {
     "ename": "SyntaxError",
     "evalue": "invalid syntax (<ipython-input-9-0ea92e12aaca>, line 2)",
     "output_type": "error",
     "traceback": [
      "\u001b[0;36m  File \u001b[0;32m\"<ipython-input-9-0ea92e12aaca>\"\u001b[0;36m, line \u001b[0;32m2\u001b[0m\n\u001b[0;31m    result[]=1\u001b[0m\n\u001b[0m           ^\u001b[0m\n\u001b[0;31mSyntaxError\u001b[0m\u001b[0;31m:\u001b[0m invalid syntax\n"
     ]
    }
   ],
   "source": [
    "result=[]\n",
    "result[]=1\n",
    "result[]=2\n",
    "result"
   ]
  },
  {
   "cell_type": "code",
   "execution_count": null,
   "metadata": {},
   "outputs": [],
   "source": []
  }
 ],
 "metadata": {
  "kernelspec": {
   "display_name": "Python 3",
   "language": "python",
   "name": "python3"
  },
  "language_info": {
   "codemirror_mode": {
    "name": "ipython",
    "version": 3
   },
   "file_extension": ".py",
   "mimetype": "text/x-python",
   "name": "python",
   "nbconvert_exporter": "python",
   "pygments_lexer": "ipython3",
   "version": "3.5.2"
  }
 },
 "nbformat": 4,
 "nbformat_minor": 2
}
