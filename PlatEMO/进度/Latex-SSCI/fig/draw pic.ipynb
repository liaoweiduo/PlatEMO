{
 "cells": [
  {
   "cell_type": "code",
   "execution_count": 31,
   "metadata": {
    "collapsed": false
   },
   "outputs": [],
   "source": [
    "from matplotlib.patches import Ellipse, Circle\n",
    "import matplotlib.pyplot as plt\n",
    "import numpy as np\n",
    "import mpl_toolkits.axisartist as axisartist"
   ]
  },
  {
   "cell_type": "code",
   "execution_count": 41,
   "metadata": {
    "collapsed": false
   },
   "outputs": [
    {
     "data": {
      "image/png": "[encoded data removed]",
      "text/plain": [
       "<matplotlib.figure.Figure at 0x11d7ebe10>"
      ]
     },
     "metadata": {},
     "output_type": "display_data"
    }
   ],
   "source": [
    "fig = plt.figure()\n",
    "# ax = fig.add_subplot(111)\n",
    "ax = axisartist.Subplot(fig, 111)  \n",
    "#将绘图区对象添加到画布中\n",
    "fig.add_axes(ax)\n",
    "ax.axis[:].set_visible(False)\n",
    "ax.axis[\"x\"] = ax.new_floating_axis(0,-0.1)\n",
    "ax.axis[\"x\"].set_axisline_style(\"-|>\", size = 1.2)\n",
    "ax.axis[\"y\"] = ax.new_floating_axis(1,-0.1)\n",
    "ax.axis[\"y\"].set_axisline_style(\"-|>\", size = 1.2)\n",
    "# ax.axis[\"x\"].set_axis_direction(\"top\")\n",
    "ax.axis[\"y\"].set_axis_direction(\"left\")\n",
    "\n",
    "\n",
    "# ell1 = Ellipse(xy = (0.0, 0.0), width = 4, height = 8, angle = 30.0, facecolor= 'yellow', alpha=0.3)\n",
    "cir1 = Circle(xy = (0.5, 0.5), radius=0.5, alpha=0.5, facecolor = 'gray', linewidth=0)\n",
    "ax.add_patch(cir1)\n",
    "\n",
    "# reference point\n",
    "x, y = 1.1, 1.1\n",
    "ax.plot(x, y, 'bo') \n",
    "\n",
    "# pareto front\n",
    "x = np.arange(0, 0.5, 0.01)\n",
    "y = 0.5 - np.sqrt(x - x**2)\n",
    "ax.plot(x, y, 'r-', linewidth=2)\n",
    "\n",
    "# true nadir point\n",
    "\n",
    "plt.axis('scaled')\n",
    "# plt.axis('equal')\n",
    "plt.axis([-0.1,1.5,-0.1,1.5])\n",
    "plt.xlabel('$f_1$')\n",
    "plt.ylabel('$f_2$')\n",
    "\n",
    "ax.spines['right'].set_color('none')\n",
    "ax.spines['top'].set_color('none')\n",
    "ax.xaxis.set_ticks_position(\"bottom\")\n",
    "ax.yaxis.set_ticks_position(\"left\")\n",
    "\n",
    "plt.show()\n"
   ]
  },
  {
   "cell_type": "code",
   "execution_count": null,
   "metadata": {
    "collapsed": true
   },
   "outputs": [],
   "source": []
  }
 ],
 "metadata": {
  "anaconda-cloud": {},
  "kernelspec": {
   "display_name": "Python [conda env:anaconda]",
   "language": "python",
   "name": "conda-env-anaconda-py"
  },
  "language_info": {
   "codemirror_mode": {
    "name": "ipython",
    "version": 3
   },
   "file_extension": ".py",
   "mimetype": "text/x-python",
   "name": "python",
   "nbconvert_exporter": "python",
   "pygments_lexer": "ipython3",
   "version": "3.5.2"
  }
 },
 "nbformat": 4,
 "nbformat_minor": 1
}
